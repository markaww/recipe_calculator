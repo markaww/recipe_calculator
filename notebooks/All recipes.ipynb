{
 "cells": [
  {
   "cell_type": "code",
   "execution_count": 1,
   "metadata": {},
   "outputs": [],
   "source": [
    "import requests\n",
    "from bs4 import BeautifulSoup\n",
    "import pandas as pd\n",
    "import re\n",
    "import random"
   ]
  },
  {
   "cell_type": "code",
   "execution_count": 2,
   "metadata": {},
   "outputs": [],
   "source": [
    "allrecipes_urls = ['https://www.allrecipes.com/recipes/200/meat-and-poultry/beef/',\n",
    "                   'https://www.allrecipes.com/recipes/201/meat-and-poultry/chicken/',\n",
    "                   'https://www.allrecipes.com/recipes/205/meat-and-poultry/pork/',\n",
    "                   'https://www.allrecipes.com/recipes/93/seafood/',    \n",
    "                   'https://www.allrecipes.com/recipes/225/side-dish/vegetables/',\n",
    "                   'https://www.allrecipes.com/recipes/95/pasta-and-noodles/',\n",
    "                   'https://www.allrecipes.com/recipes/96/salad/',\n",
    "                   'https://www.allrecipes.com/recipes/84/healthy-recipes/',]\n",
    "\n",
    "allrecipes_categories = [re.sub('\\d','',i[37:-1])[1:] for i in allrecipes_urls]"
   ]
  },
  {
   "cell_type": "code",
   "execution_count": 12,
   "metadata": {},
   "outputs": [
    {
     "data": {
      "text/plain": [
       "['meat-and-poultry/beef: [https://www.allrecipes.com/recipe/221958/chef-johns-perfect-prime-rib/\" \\', https://www.allrecipes.com/recipe/58942/absolute-best-liver-and-onions/\" \\', https://www.allrecipes.com/recipe/78370/hamburger-steak-with-onions-and-gravy/\" \\']/n',\n",
       " 'meat-and-poultry/chicken: [https://www.allrecipes.com/recipe/187822/baked-chicken-wings/\" \\', https://www.allrecipes.com/recipe/241601/sesame-chicken-for-slow-cooker/\" \\', https://www.allrecipes.com/gallery/pasta-salads-with-leftover-chicken/\" \\']/n',\n",
       " 'meat-and-poultry/pork: [https://www.allrecipes.com/recipe/267967/low-carb-stuffed-peppers/\" \\', https://www.allrecipes.com/recipe/13384/split-pea-soup/\" \\', https://www.allrecipes.com/recipe/247371/pork-loin-roast-with-baby-bellas/\" \\']/n',\n",
       " 'seafood: [https://www.allrecipes.com/recipe/9401/salmon-patties-i/\" \\', https://www.allrecipes.com/recipe/45361/easy-bake-fish/\" \\', https://www.allrecipes.com/recipe/74169/hudsons-baked-tilapia-with-dill-sauce/\" \\']/n',\n",
       " 'side-dish/vegetables: [https://www.allrecipes.com/recipe/24771/basic-mashed-potatoes/\" \\', https://www.allrecipes.com/recipe/21220/mashed-sweet-potatoes/\" \\', https://www.allrecipes.com/recipe/53304/cream-corn-like-no-other/\" \\']/n',\n",
       " 'pasta-and-noodles: [https://www.allrecipes.com/recipe/246628/spaghetti-cacio-e-pepe/\" \\', https://www.allrecipes.com/recipe/11679/homemade-mac-and-cheese/\" \\', https://www.allrecipes.com/recipe/14385/pasta-salad/\" \\']/n',\n",
       " 'salad: [https://www.allrecipes.com/recipe/14169/mexican-bean-salad/\" \\', https://www.allrecipes.com/recipe/14472/fennel-and-watercress-salad/\" \\', https://www.allrecipes.com/recipe/236198/chicken-club-pasta-salad/\" \\']/n',\n",
       " 'healthy-recipes: [https://www.allrecipes.com/recipe/53729/fish-tacos/\" \\', https://www.allrecipes.com/recipe/109297/cedar-planked-salmon/\" \\', https://www.allrecipes.com/recipe/20482/baked-tortilla-chips/\" \\']/n']"
      ]
     },
     "execution_count": 12,
     "metadata": {},
     "output_type": "execute_result"
    }
   ],
   "source": [
    "html_list = [requests.get(url).content for url in allrecipes_urls]\n",
    "soup_list = [BeautifulSoup(html, 'html.parser') for html in html_list]\n",
    "\n",
    "links_raw = [soup.find_all('a', {'class': 'card__titleLink manual-link-behavior'}) for soup in soup_list]\n",
    "\n",
    "pattern = 'href+(.*?)tab'\n",
    "\n",
    "links_clean = [re.findall(pattern, str(i)) for i in links_raw]\n",
    "\n",
    "links_clean[1]\n",
    "\n",
    "dictionary = dict(zip(allrecipes_categories,links_clean))\n",
    "list(dictionary.keys())\n",
    "\n",
    "\n",
    "picks = [re.sub('\\'=\"','',f'{i}: {random.sample(dictionary[i],3)}/n') for i in allrecipes_categories]\n",
    "                                            \n",
    "picks\n"
   ]
  },
  {
   "cell_type": "code",
   "execution_count": 13,
   "metadata": {},
   "outputs": [],
   "source": [
    "import smtplib\n",
    "from dotenv import load_dotenv\n",
    "import os\n",
    "\n",
    "\n",
    "load_dotenv()\n",
    "email = os.getenv('EMAIL')\n",
    "pwd = os.getenv('PASSWORD')\n",
    "destination = os.getenv('DESTINATION')\n",
    "\n",
    "\n",
    "with smtplib.SMTP('smtp.gmail.com', 587) as smtp:\n",
    "    smtp.ehlo()\n",
    "    smtp.starttls()\n",
    "    smtp.ehlo()\n",
    "\n",
    "    smtp.login(email, pwd)\n",
    "\n",
    "    subject = 'Your recipe picks for this week'\n",
    "    body = f\"\"\"'Hi! here are your recipe picks for this week.\n",
    "{picks} \n",
    "This message was made entirely using python\"\"\"\n",
    "\n",
    "    msg = f'Subject: {subject}\\n\\n{body}'\n",
    "    send = smtp.sendmail(email, destination, msg)\n",
    "\n"
   ]
  },
  {
   "cell_type": "code",
   "execution_count": 168,
   "metadata": {},
   "outputs": [
    {
     "name": "stdin",
     "output_type": "stream",
     "text": [
      "Type your password and press enter:  Eat.Sleep.Rave.Repeat.01\n"
     ]
    }
   ],
   "source": [
    "import smtplib, ssl\n",
    "\n",
    "port = 465  # For SSL\n",
    "password = input(\"Type your password and press enter: \")\n",
    "\n",
    "# Create a secure SSL context\n",
    "context = ssl.create_default_context()\n",
    "\n",
    "with smtplib.SMTP_SSL(\"smtp.gmail.com\", port, context=context) as server:\n",
    "    server.login(\"markanthony.westmacott@gmail.com\", password)\n",
    "    # TODO: Send email here\n",
    "    \n",
    "sender_email = \"markanthony.westmacott@gmail.com\"\n",
    "receiver_email = \"mark_kingson@hotmail.com\"\n",
    "message = f\"\"\"\\\n",
    "Subject: Recipe picks for the week\n",
    "Here's your recipe picks for this week\n",
    "{picks}\n",
    "\n",
    "This message is sent from Python.\"\"\"\n",
    "\n",
    "# Send email here"
   ]
  },
  {
   "cell_type": "code",
   "execution_count": 171,
   "metadata": {},
   "outputs": [],
   "source": [
    "sender_email = \"markanthony.westmacott@gmail.com\"\n",
    "receiver_email = \"mark_kingson@hotmail.com\"\n",
    "message = f\"\"\"\\\n",
    "Subject: Recipe picks for the week\n",
    "Here's your recipe picks for this week\n",
    "{picks}\n",
    "\n",
    "This message is sent from Python.\"\"\"\n",
    "\n",
    "# Send email here"
   ]
  },
  {
   "cell_type": "code",
   "execution_count": 1,
   "metadata": {},
   "outputs": [
    {
     "name": "stdout",
     "output_type": "stream",
     "text": [
      "None\n",
      "None\n",
      "None\n"
     ]
    }
   ],
   "source": [
    "import os\n",
    "\n",
    "email = os.environ.get('EMAIL')\n",
    "pwd = os.environ.get('PASSWORD')\n",
    "destination = os.environ.get('DESTINATION')\n",
    "\n",
    "print(email)\n",
    "print(pwd)\n",
    "print(destination)"
   ]
  },
  {
   "cell_type": "code",
   "execution_count": 10,
   "metadata": {},
   "outputs": [
    {
     "name": "stdout",
     "output_type": "stream",
     "text": [
      "/home/markaw/miniconda3/envs/ironhack_env/bin:/home/markaw/miniconda3/condabin:/bin:/usr/local/sbin:/usr/local/bin:/usr/sbin:/usr/bin:/home/markaw/miniconda3/envs/jupyter_env/bin:/home/markaw/miniconda3/bin\n"
     ]
    }
   ],
   "source": [
    "print(os.environ.get(\"PATH\"))"
   ]
  }
 ],
 "metadata": {
  "kernelspec": {
   "display_name": "Python [conda env:ironhack_env]",
   "language": "python",
   "name": "conda-env-ironhack_env-py"
  },
  "language_info": {
   "codemirror_mode": {
    "name": "ipython",
    "version": 3
   },
   "file_extension": ".py",
   "mimetype": "text/x-python",
   "name": "python",
   "nbconvert_exporter": "python",
   "pygments_lexer": "ipython3",
   "version": "3.7.9"
  }
 },
 "nbformat": 4,
 "nbformat_minor": 4
}
