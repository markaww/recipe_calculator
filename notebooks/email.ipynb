{
 "cells": [
  {
   "cell_type": "code",
   "execution_count": 1,
   "metadata": {},
   "outputs": [],
   "source": [
    "picks = ['meat-and-poultry/beef: [https://www.allrecipes.com/recipe/78299/boilermaker-tailgate-chili/\" \\', https://www.allrecipes.com/recipe/16354/easy-meatloaf/\" \\', https://www.allrecipes.com/recipe/228823/quick-beef-stir-fry/\" \\']',\n",
    " 'meat-and-poultry/chicken: [https://www.allrecipes.com/recipe/220128/chef-johns-buttermilk-fried-chicken/\" \\', https://www.allrecipes.com/recipe/279677/annes-chicken-chilaquiles-rojas/\" \\', https://www.allrecipes.com/recipe/31848/jambalaya/\" \\']',\n",
    " 'meat-and-poultry/pork: [https://www.allrecipes.com/recipe/235158/worlds-best-honey-garlic-pork-chops/\" \\', https://www.allrecipes.com/recipe/235378/super-easy-pulled-pork-sandwiches/\" \\', https://www.allrecipes.com/recipe/267967/low-carb-stuffed-peppers/\" \\']',\n",
    " 'seafood: [https://www.allrecipes.com/recipe/39455/marinated-tuna-steak/\" \\', https://www.allrecipes.com/recipe/146035/the-best-thai-coconut-soup/\" \\', https://www.allrecipes.com/recipe/160099/seared-ahi-tuna-steaks/\" \\']',\n",
    " 'side-dish/vegetables: [https://www.allrecipes.com/recipe/54675/roasted-garlic-cauliflower/\" \\', https://www.allrecipes.com/recipe/199575/oven-fresh-seasoned-potato-wedges/\" \\', https://www.allrecipes.com/recipe/273523/roasted-cauliflower-with-pecorino-and-mint/\" \\']',\n",
    " 'pasta-and-noodles: [https://www.allrecipes.com/recipe/234592/buffalo-chicken-stuffed-shells/\" \\', https://www.allrecipes.com/recipe/258468/beef-stroganoff-for-instant-pot/\" \\', https://www.allrecipes.com/recipe/24239/vietnamese-fresh-spring-rolls/\" \\']',\n",
    " 'salad: [https://www.allrecipes.com/recipe/237723/chef-johns-green-goddess-dressing/\" \\', https://www.allrecipes.com/recipe/235272/roasted-beets-with-goat-cheese-and-walnuts/\" \\', https://www.allrecipes.com/recipe/258575/quinoa-salad-with-crispy-tofu-cubes-and-lime-vinaigrette/\" \\']',\n",
    " 'healthy-recipes: [https://www.allrecipes.com/recipe/72508/the-best-vegetarian-chili-in-the-world/\" \\', https://www.allrecipes.com/recipe/80969/simple-turkey-chili/\" \\', https://www.allrecipes.com/recipe/85452/homemade-black-bean-veggie-burgers/\" \\']']"
   ]
  },
  {
   "cell_type": "code",
   "execution_count": 2,
   "metadata": {},
   "outputs": [],
   "source": [
    "import smtplib\n",
    "\n",
    "email = 'XXXXX'\n",
    "pwd = 'XXXXX'\n",
    "destination = 'XXXXX'\n",
    "\n",
    "def send_email():\n",
    "    with smtplib.SMTP('smtp.gmail.com',587) as smtp:\n",
    "        smtp.ehlo()\n",
    "        smtp.starttls()\n",
    "        smtp.ehlo()\n",
    "\n",
    "        smtp.login(email, pwd)\n",
    "\n",
    "        subject = 'Your recipe picks for this week'\n",
    "        body = f'Hi! here are your recipe picks for this week.\\n{picks}\\nThis message was made entirely using python'\n",
    "\n",
    "        msg = f'Subject: {subject}\\n\\n{body}'\n",
    "\n",
    "        smtp.sendmail(email, destination, msg)\n",
    "\n"
   ]
  },
  {
   "cell_type": "code",
   "execution_count": 3,
   "metadata": {},
   "outputs": [],
   "source": [
    "#ENV Var not working (Octavios link)\n",
    "\n",
    "# from flask import flask\n",
    "# app = Flask(__name__)\n",
    "\n",
    "from dotenv import load_dotenv\n",
    "load_dotenv()\n",
    "\n",
    "import os\n",
    "email = os.getenv('EMAIL')\n",
    "pwd = os.getenv('PASSWORD')\n",
    "destination = os.getenv('DESTINATION')\n",
    "\n"
   ]
  },
  {
   "cell_type": "code",
   "execution_count": 5,
   "metadata": {},
   "outputs": [],
   "source": [
    "#ENV Var not working (Cory Schafer)\n",
    "\n",
    "import os\n",
    "\n",
    "email = os.environ.get('EMAIL')\n",
    "pwd = os.environ.get('PASSWORD')\n",
    "destination = os.environ.get('DESTINATION')\n",
    "\n"
   ]
  },
  {
   "cell_type": "code",
   "execution_count": 1,
   "metadata": {},
   "outputs": [],
   "source": [
    "def job():\n",
    "    print(\"I'm working\")"
   ]
  },
  {
   "cell_type": "code",
   "execution_count": null,
   "metadata": {},
   "outputs": [],
   "source": [
    "import schedule\n",
    "import time\n",
    "\n",
    "schedule.every().monday.at(\"13:00\").do(send_email)\n",
    "\n",
    "while True:\n",
    "    schedule.run_pending()\n",
    "    time.sleep(1)"
   ]
  }
 ],
 "metadata": {
  "kernelspec": {
   "display_name": "Python [conda env:ironhack_env]",
   "language": "python",
   "name": "conda-env-ironhack_env-py"
  },
  "language_info": {
   "codemirror_mode": {
    "name": "ipython",
    "version": 3
   },
   "file_extension": ".py",
   "mimetype": "text/x-python",
   "name": "python",
   "nbconvert_exporter": "python",
   "pygments_lexer": "ipython3",
   "version": "3.7.9"
  }
 },
 "nbformat": 4,
 "nbformat_minor": 4
}
