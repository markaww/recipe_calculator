{
 "cells": [
  {
   "cell_type": "code",
   "execution_count": 1,
   "metadata": {},
   "outputs": [],
   "source": [
    "import requests\n",
    "from bs4 import BeautifulSoup\n",
    "import re"
   ]
  },
  {
   "cell_type": "code",
   "execution_count": 101,
   "metadata": {},
   "outputs": [],
   "source": [
    "allrecipes_urls = ['https://www.allrecipes.com/recipes/200/meat-and-poultry/beef/',\n",
    "                   'https://www.allrecipes.com/recipes/201/meat-and-poultry/chicken/',\n",
    "                   'https://www.allrecipes.com/recipes/205/meat-and-poultry/pork/',\n",
    "                   'https://www.allrecipes.com/recipes/93/seafood/',    \n",
    "                   'https://www.allrecipes.com/recipes/225/side-dish/vegetables/',\n",
    "                   'https://www.allrecipes.com/recipes/95/pasta-and-noodles/',\n",
    "                   'https://www.allrecipes.com/recipes/96/salad/',\n",
    "                   'https://www.allrecipes.com/recipes/84/healthy-recipes/',]\n",
    "\n",
    "allrecipes_categories = [re.sub('\\d','',i[37:-1])[1:] for i in allrecipes_urls]"
   ]
  },
  {
   "cell_type": "code",
   "execution_count": 8,
   "metadata": {},
   "outputs": [],
   "source": [
    "html_list = [requests.get(url).content for url in allrecipes_urls]\n",
    "soup_list = [BeautifulSoup(html, 'html.parser') for html in html_list]"
   ]
  },
  {
   "cell_type": "code",
   "execution_count": 114,
   "metadata": {},
   "outputs": [
    {
     "data": {
      "text/plain": [
       "['=\"https://www.allrecipes.com/recipe/273864/greek-chicken-skewers/\" ',\n",
       " '=\"https://www.allrecipes.com/recipe/280018/french-onion-breaded-baked-chicken/\" ',\n",
       " '=\"https://www.allrecipes.com/recipe/279934/air-fryer-apricot-glazed-chicken-breasts/\" ',\n",
       " '=\"https://www.allrecipes.com/recipe/279987/sheet-pan-sweet-and-sour-chicken/\" ',\n",
       " '=\"https://www.allrecipes.com/recipe/279909/broiled-paprika-and-lemon-pepper-chicken-breasts/\" ',\n",
       " '=\"https://www.allrecipes.com/recipe/279677/annes-chicken-chilaquiles-rojas/\" ',\n",
       " '=\"https://www.allrecipes.com/recipe/279648/pollo-alla-birra-for-two/\" ',\n",
       " '=\"https://www.allrecipes.com/recipe/279629/make-ahead-freezer-chicken-parmesan/\" ',\n",
       " '=\"https://www.allrecipes.com/recipe/68461/buffalo-chicken-dip/\" ',\n",
       " '=\"https://www.allrecipes.com/recipe/83557/juicy-roasted-chicken/\" ',\n",
       " '=\"https://www.allrecipes.com/recipe/216159/perfect-chicken/\" ',\n",
       " '=\"https://www.allrecipes.com/recipe/223042/chicken-parmesan/\" ',\n",
       " '=\"https://www.allrecipes.com/recipe/18775/aussie-chicken/\" ',\n",
       " '=\"https://www.allrecipes.com/recipe/157872/winter-chicken-bake/\" ',\n",
       " '=\"https://www.allrecipes.com/recipe/26317/chicken-pot-pie-ix/\" ',\n",
       " '=\"https://www.allrecipes.com/recipe/8992/hawaii-chicken/\" ',\n",
       " '=\"https://www.allrecipes.com/recipe/244950/baked-chicken-schnitzel/\" ',\n",
       " '=\"https://www.allrecipes.com/recipe/241601/sesame-chicken-for-slow-cooker/\" ',\n",
       " '=\"https://www.allrecipes.com/recipe/233983/mamaws-chicken-and-rice-casserole/\" ',\n",
       " '=\"https://www.allrecipes.com/recipe/24791/easy-slow-cooker-chicken-wings/\" ',\n",
       " '=\"https://www.allrecipes.com/recipe/187822/baked-chicken-wings/\" ',\n",
       " '=\"https://www.allrecipes.com/recipe/8965/broccoli-chicken-casserole-i/\" ',\n",
       " '=\"https://www.allrecipes.com/recipe/274735/grilled-bacon-wrapped-chicken-tenders/\" ',\n",
       " '=\"https://www.allrecipes.com/recipe/212721/indian-chicken-curry-murgh-kari/\" ',\n",
       " '=\"https://www.allrecipes.com/recipe/8814/homemade-chicken-soup/\" ',\n",
       " '=\"https://www.allrecipes.com/recipe/8941/slow-cooker-chicken-and-dumplings/\" ',\n",
       " '=\"https://www.allrecipes.com/recipe/236609/honey-garlic-slow-cooker-chicken-thighs/\" ',\n",
       " '=\"https://www.allrecipes.com/gallery/the-best-sheet-pan-chicken-dinners/\" ',\n",
       " '=\"https://www.allrecipes.com/recipe/8887/chicken-marsala/\" ',\n",
       " '=\"https://www.allrecipes.com/recipe/25490/broccoli-rice-cheese-and-chicken-casserole/\" ',\n",
       " '=\"https://www.allrecipes.com/recipe/257938/spicy-thai-basil-chicken-pad-krapow-gai/\" ',\n",
       " '=\"https://www.allrecipes.com/recipe/220128/chef-johns-buttermilk-fried-chicken/\" ',\n",
       " '=\"https://www.allrecipes.com/recipe/31848/jambalaya/\" ',\n",
       " '=\"https://www.allrecipes.com/recipe/282124/honey-garlic-chicken-thighs/\" ',\n",
       " '=\"https://www.allrecipes.com/recipe/269707/mushroom-broccoli-and-cheese-stuffed-chicken/\" ',\n",
       " '=\"https://www.allrecipes.com/recipe/214488/lemon-chicken-piccata/\" ']"
      ]
     },
     "execution_count": 114,
     "metadata": {},
     "output_type": "execute_result"
    }
   ],
   "source": [
    "links_raw = [soup.find_all('a', {'class': 'card__titleLink manual-link-behavior'}) for soup in soup_list]\n",
    "\n",
    "pattern = 'href+(.*?)tab'\n",
    "\n",
    "links_clean = [re.findall(pattern, str(i)) for i in links_raw]\n",
    "\n",
    "links_clean[1]"
   ]
  },
  {
   "cell_type": "code",
   "execution_count": 145,
   "metadata": {},
   "outputs": [
    {
     "data": {
      "text/plain": [
       "['meat-and-poultry/beef',\n",
       " 'meat-and-poultry/chicken',\n",
       " 'meat-and-poultry/pork',\n",
       " 'seafood',\n",
       " 'side-dish/vegetables',\n",
       " 'pasta-and-noodles',\n",
       " 'salad',\n",
       " 'healthy-recipes']"
      ]
     },
     "execution_count": 145,
     "metadata": {},
     "output_type": "execute_result"
    }
   ],
   "source": [
    "dictionary = dict(zip(allrecipes_categories,links_clean))\n",
    "list(dictionary.keys())\n"
   ]
  },
  {
   "cell_type": "code",
   "execution_count": 170,
   "metadata": {},
   "outputs": [
    {
     "data": {
      "text/plain": [
       "['meat-and-poultry/beef: [https://www.allrecipes.com/recipe/78299/boilermaker-tailgate-chili/\" \\', https://www.allrecipes.com/recipe/16354/easy-meatloaf/\" \\', https://www.allrecipes.com/recipe/228823/quick-beef-stir-fry/\" \\']',\n",
       " 'meat-and-poultry/chicken: [https://www.allrecipes.com/recipe/220128/chef-johns-buttermilk-fried-chicken/\" \\', https://www.allrecipes.com/recipe/279677/annes-chicken-chilaquiles-rojas/\" \\', https://www.allrecipes.com/recipe/31848/jambalaya/\" \\']',\n",
       " 'meat-and-poultry/pork: [https://www.allrecipes.com/recipe/235158/worlds-best-honey-garlic-pork-chops/\" \\', https://www.allrecipes.com/recipe/235378/super-easy-pulled-pork-sandwiches/\" \\', https://www.allrecipes.com/recipe/267967/low-carb-stuffed-peppers/\" \\']',\n",
       " 'seafood: [https://www.allrecipes.com/recipe/39455/marinated-tuna-steak/\" \\', https://www.allrecipes.com/recipe/146035/the-best-thai-coconut-soup/\" \\', https://www.allrecipes.com/recipe/160099/seared-ahi-tuna-steaks/\" \\']',\n",
       " 'side-dish/vegetables: [https://www.allrecipes.com/recipe/54675/roasted-garlic-cauliflower/\" \\', https://www.allrecipes.com/recipe/199575/oven-fresh-seasoned-potato-wedges/\" \\', https://www.allrecipes.com/recipe/273523/roasted-cauliflower-with-pecorino-and-mint/\" \\']',\n",
       " 'pasta-and-noodles: [https://www.allrecipes.com/recipe/234592/buffalo-chicken-stuffed-shells/\" \\', https://www.allrecipes.com/recipe/258468/beef-stroganoff-for-instant-pot/\" \\', https://www.allrecipes.com/recipe/24239/vietnamese-fresh-spring-rolls/\" \\']',\n",
       " 'salad: [https://www.allrecipes.com/recipe/237723/chef-johns-green-goddess-dressing/\" \\', https://www.allrecipes.com/recipe/235272/roasted-beets-with-goat-cheese-and-walnuts/\" \\', https://www.allrecipes.com/recipe/258575/quinoa-salad-with-crispy-tofu-cubes-and-lime-vinaigrette/\" \\']',\n",
       " 'healthy-recipes: [https://www.allrecipes.com/recipe/72508/the-best-vegetarian-chili-in-the-world/\" \\', https://www.allrecipes.com/recipe/80969/simple-turkey-chili/\" \\', https://www.allrecipes.com/recipe/85452/homemade-black-bean-veggie-burgers/\" \\']']"
      ]
     },
     "execution_count": 170,
     "metadata": {},
     "output_type": "execute_result"
    }
   ],
   "source": [
    "import random\n",
    "\n",
    "picks = [re.sub('\\'=\"','',f'{i}: {random.sample(dictionary[i],3)}') for i in allrecipes_categories]\n",
    "                                            \n",
    "picks\n"
   ]
  },
  {
   "cell_type": "code",
   "execution_count": 168,
   "metadata": {},
   "outputs": [
    {
     "name": "stdin",
     "output_type": "stream",
     "text": [
      "Type your password and press enter:  Eat.Sleep.Rave.Repeat.01\n"
     ]
    }
   ],
   "source": [
    "import smtplib, ssl\n",
    "\n",
    "port = 465  # For SSL\n",
    "password = input(\"Type your password and press enter: \")\n",
    "\n",
    "# Create a secure SSL context\n",
    "context = ssl.create_default_context()\n",
    "\n",
    "with smtplib.SMTP_SSL(\"smtp.gmail.com\", port, context=context) as server:\n",
    "    server.login(\"markanthony.westmacott@gmail.com\", password)\n",
    "    # TODO: Send email here\n",
    "    \n",
    "sender_email = \"markanthony.westmacott@gmail.com\"\n",
    "receiver_email = \"mark_kingson@hotmail.com\"\n",
    "message = f\"\"\"\\\n",
    "Subject: Recipe picks for the week\n",
    "Here's your recipe picks for this week\n",
    "{picks}\n",
    "\n",
    "This message is sent from Python.\"\"\"\n",
    "\n",
    "# Send email here"
   ]
  },
  {
   "cell_type": "code",
   "execution_count": 171,
   "metadata": {},
   "outputs": [],
   "source": [
    "sender_email = \"markanthony.westmacott@gmail.com\"\n",
    "receiver_email = \"mark_kingson@hotmail.com\"\n",
    "message = f\"\"\"\\\n",
    "Subject: Recipe picks for the week\n",
    "Here's your recipe picks for this week\n",
    "{picks}\n",
    "\n",
    "This message is sent from Python.\"\"\"\n",
    "\n",
    "# Send email here"
   ]
  },
  {
   "cell_type": "code",
   "execution_count": 1,
   "metadata": {},
   "outputs": [
    {
     "name": "stdout",
     "output_type": "stream",
     "text": [
      "hello \n",
      " my name is\n"
     ]
    }
   ],
   "source": [
    "print('hello \\n my name is')"
   ]
  }
 ],
 "metadata": {
  "kernelspec": {
   "display_name": "Python [conda env:ironhack_env]",
   "language": "python",
   "name": "conda-env-ironhack_env-py"
  },
  "language_info": {
   "codemirror_mode": {
    "name": "ipython",
    "version": 3
   },
   "file_extension": ".py",
   "mimetype": "text/x-python",
   "name": "python",
   "nbconvert_exporter": "python",
   "pygments_lexer": "ipython3",
   "version": "3.7.9"
  }
 },
 "nbformat": 4,
 "nbformat_minor": 4
}
